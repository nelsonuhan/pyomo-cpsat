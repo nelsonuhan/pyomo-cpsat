{
 "cells": [
  {
   "cell_type": "code",
   "execution_count": 1,
   "id": "194026a4-6096-45d5-931f-03fdbc4c1cec",
   "metadata": {},
   "outputs": [],
   "source": [
    "import pyomo.environ as pyo\n",
    "from pyomo.contrib import appsi\n",
    "from cpsat import CpsatDirect\n",
    "# from appsi_cpsat import Cpsat"
   ]
  },
  {
   "cell_type": "code",
   "execution_count": 2,
   "id": "56e11837-36a4-485a-9ca6-576f91d0de32",
   "metadata": {},
   "outputs": [],
   "source": [
    "nodes = [0, 1, 2, 3, 4, 5, 6, 7, 8, 9]\n",
    "\n",
    "edges = [(0, 1), (0, 2), (0, 3), (1, 4),\n",
    "         (1, 6), (2, 1), (2, 3), (2, 5),\n",
    "         (3, 5), (4, 2), (5, 7), (5, 8),\n",
    "         (6, 4), (6, 7), (6, 9), (7, 4),\n",
    "         (7, 9), (8, 3), (8, 7), (8, 9)]\n",
    "\n",
    "distance = {(0, 1): 40, (0, 2):  8, (0, 3): 10, (1, 4):  6,\n",
    "            (1, 6): 10, (2, 1):  4, (2, 3): 12, (2, 5):  2,\n",
    "            (3, 5):  1, (4, 2):  2, (5, 7):  4, (5, 8):  3,\n",
    "            (6, 4):  8, (6, 7): 20, (6, 9):  1, (7, 4):  0,\n",
    "            (7, 9): 20, (8, 3):  6, (8, 7): 10, (8, 9):  2}\n",
    "\n",
    "source = 0\n",
    "sink = 9"
   ]
  },
  {
   "cell_type": "code",
   "execution_count": 12,
   "id": "d36a7d41-fe58-41be-86f3-838e0a36bbfc",
   "metadata": {},
   "outputs": [],
   "source": [
    "model = pyo.ConcreteModel()"
   ]
  },
  {
   "cell_type": "code",
   "execution_count": 13,
   "id": "ab9a4e92-a685-43ba-a95a-7d5aa87db3ea",
   "metadata": {},
   "outputs": [],
   "source": [
    "model.nodes = pyo.Set(initialize=nodes)\n",
    "model.edges = pyo.Set(initialize=edges)\n",
    "model.distance = pyo.Param(model.edges, initialize=distance)\n",
    "model.x = pyo.Var(edges, domain=pyo.Binary)"
   ]
  },
  {
   "cell_type": "code",
   "execution_count": 14,
   "id": "f59eef24-faad-407c-b562-b125761d5622",
   "metadata": {},
   "outputs": [],
   "source": [
    "@model.Objective(sense=pyo.minimize)\n",
    "def total_distance(m):\n",
    "    return sum(m.distance[i, j] * m.x[i, j] for (i, j) in m.edges)\n",
    "\n",
    "@model.Constraint(model.nodes)\n",
    "def flow_balance(m, i):\n",
    "    flow_in =  sum(m.x[j, k] for (j, k) in m.edges if k == i)\n",
    "    flow_out = sum(m.x[j, k] for (j, k) in m.edges if j == i)\n",
    "\n",
    "    if i == source:\n",
    "        return flow_out == 1\n",
    "    elif i == sink:\n",
    "        return flow_in == 1\n",
    "    else:\n",
    "        return flow_in == flow_out"
   ]
  },
  {
   "cell_type": "code",
   "execution_count": 15,
   "id": "7a32d234-cc07-4776-9559-628331123c7e",
   "metadata": {},
   "outputs": [
    {
     "data": {
      "text/plain": [
       "('test.mps', 4414757744)"
      ]
     },
     "execution_count": 15,
     "metadata": {},
     "output_type": "execute_result"
    }
   ],
   "source": [
    "model.write('test.mps', 'mps', io_options={\"symbolic_solver_labels\": True})"
   ]
  },
  {
   "cell_type": "code",
   "execution_count": 7,
   "id": "56ef5dc8-c318-4d19-bcbf-8033fc2e10bd",
   "metadata": {},
   "outputs": [],
   "source": [
    "solver = pyo.SolverFactory('cpsat')\n",
    "# solver = pyo.SolverFactory('gurobi')\n",
    "# solver = pyo.SolverFactory('scip')\n",
    "# solver = pyo.SolverFactory('appsi_highs')\n",
    "# solver = pyo.SolverFactory('appsi_gurobi')\n",
    "\n",
    "# solver._set_instance(model)"
   ]
  },
  {
   "cell_type": "code",
   "execution_count": 8,
   "id": "7765038b-95ef-44e3-a0d9-45d10c1f4232",
   "metadata": {},
   "outputs": [
    {
     "name": "stdout",
     "output_type": "stream",
     "text": [
      "\n",
      "Starting CP-SAT solver v9.6.2534\n",
      "Parameters: log_search_progress: true\n",
      "Setting number of workers to 10\n",
      "\n",
      "Initial optimization model '': (model_fingerprint: 0xd2400b306beaa081)\n",
      "#Variables: 20 (#bools:19 in objective)\n",
      "  - 20 Booleans in [0,1]\n",
      "#kLinear3: 2\n",
      "#kLinearN: 8 (#terms: 34)\n",
      "\n",
      "Starting presolve at 0.00s\n",
      "[ExtractEncodingFromLinear] #potential_supersets=6 #potential_subsets=0 #at_most_one_encodings=0 #exactly_one_encodings=0 #unique_terms=0 #multiple_terms=0 #literals=0 time=5e-06s\n",
      "[Symmetry] Graph for symmetry has 41 nodes and 51 arcs.\n",
      "[Symmetry] Symmetry computation done. time: 9e-06 dtime: 5.59e-06\n",
      "[Probing] deterministic_time: 1.356e-05 (limit: 1) wall_time: 2.7e-05 (20/20)\n",
      "[Probing] implications and bool_or (work_done=110).\n",
      "[DetectDuplicateConstraints] #duplicates=0 #without_enforcements=0 time=1.6e-05s\n",
      "[DetectDominatedLinearConstraints] #relevant_constraints=4 #work_done=54 #num_inclusions=0 #num_redundant=0 time=3e-06s\n",
      "[ProcessSetPPC] #relevant_constraints=10 #num_inclusions=0 work=102 time=1.4e-05s\n",
      "[FindBigLinearOverlap] #blocks=0 #saved_nz=0 #linears=2 #work_done=10/1e+09 time=2e-06s\n",
      "[MergeClauses] #num_collisions=0 #num_merges=0 #num_saved_literals=0 work=0/100000000 time=0s\n",
      "[Symmetry] Graph for symmetry has 41 nodes and 51 arcs.\n",
      "[Symmetry] Symmetry computation done. time: 5e-06 dtime: 5.59e-06\n",
      "[Probing] deterministic_time: 1.356e-05 (limit: 1) wall_time: 2e-05 (20/20)\n",
      "[Probing] implications and bool_or (work_done=110).\n",
      "[DetectDuplicateConstraints] #duplicates=0 #without_enforcements=0 time=9e-06s\n",
      "[DetectDominatedLinearConstraints] #relevant_constraints=4 #work_done=54 #num_inclusions=0 #num_redundant=0 time=2e-06s\n",
      "[ProcessSetPPC] #relevant_constraints=10 #num_inclusions=0 work=102 time=7e-06s\n",
      "[FindBigLinearOverlap] #blocks=0 #saved_nz=0 #linears=2 #work_done=10/1e+09 time=0s\n",
      "[MergeClauses] #num_collisions=0 #num_merges=0 #num_saved_literals=0 work=0/100000000 time=0s\n",
      "[ExpandObjective] #propagations=0 #entries=60 #tight_variables=22 #tight_constraints=6 #expands=2 #issues=0 time=8e-06s\n",
      "\n",
      "Presolve summary:\n",
      "  - 0 affine relations were detected.\n",
      "  - rule 'exactly_one: simplified objective' was applied 4 times.\n",
      "  - rule 'linear: negative equal one' was applied 2 times.\n",
      "  - rule 'linear: positive equal one' was applied 4 times.\n",
      "  - rule 'objective: expanded via tight equality' was applied 2 times.\n",
      "  - rule 'objective: shifted cost with exactly ones' was applied 3 times.\n",
      "  - rule 'presolve: 0 unused variables removed.' was applied 1 time.\n",
      "  - rule 'presolve: iteration' was applied 2 times.\n",
      "\n",
      "Presolved optimization model '': (model_fingerprint: 0x71789cb2702b27e6)\n",
      "#Variables: 20 (#bools:14 in objective)\n",
      "  - 20 Booleans in [0,1]\n",
      "#kExactlyOne: 6 (#literals: 22)\n",
      "#kLinearN: 4 (#terms: 18)\n",
      "\n",
      "Preloading model.\n",
      "#Bound   0.00s best:inf   next:[13,159]   initial_domain\n",
      "[Symmetry] Graph for symmetry has 41 nodes and 51 arcs.\n",
      "[Symmetry] Symmetry computation done. time: 5e-06 dtime: 5.16e-06\n",
      "#Model   0.00s var:20/20 constraints:10/10\n",
      "\n",
      "Starting search at 0.00s with 10 workers.\n",
      "8 full problem subsolvers: [default_lp, no_lp, max_lp, core, reduced_costs, pseudo_costs, quick_restart, quick_restart_no_lp]\n",
      "7 incomplete subsolvers: [feasibility_pump, rins_lns_default, rens_lns_default, rnd_var_lns_default, rnd_cst_lns_default, graph_var_lns_default, graph_cst_lns_default]\n",
      "3 helper subsolvers: [synchronization_agent, neighborhood_helper, update_gap_integral]\n",
      "#1       0.00s best:16    next:[13,15]    no_lp fixed_bools:0/20\n",
      "#Bound   0.00s best:16    next:[15,15]    no_lp\n",
      "#2       0.00s best:15    next:[]         no_lp fixed_bools:0/20\n",
      "#Done    0.00s no_lp\n",
      "\n",
      "Sub-solver search statistics:\n",
      "  'default_lp':\n",
      "    Search statistics:\n",
      "      booleans: 20\n",
      "      conflicts: 0\n",
      "      branches: 40\n",
      "      binary_propagations: 60\n",
      "      integer_propagations: 89\n",
      "      restarts: 40\n",
      "    LP statistics:\n",
      "      final dimension: 0 rows, 18 columns, 0 entries with magnitude in [0.000000e+00, 0.000000e+00]\n",
      "      total number of simplex iterations: 0\n",
      "      total num cut propagation: 0\n",
      "      num solves: \n",
      "        - #DUAL_FEASIBLE: 1\n",
      "      managed constraints: 10\n",
      "      total cuts added: 0 (out of 0 calls)\n",
      "\n",
      "  'no_lp':\n",
      "    Search statistics:\n",
      "      booleans: 20\n",
      "      conflicts: 0\n",
      "      branches: 47\n",
      "      binary_propagations: 93\n",
      "      integer_propagations: 173\n",
      "      restarts: 41\n",
      "\n",
      "  'max_lp':\n",
      "    Search statistics:\n",
      "      booleans: 20\n",
      "      conflicts: 0\n",
      "      branches: 40\n",
      "      binary_propagations: 60\n",
      "      integer_propagations: 103\n",
      "      restarts: 40\n",
      "    LP statistics:\n",
      "      final dimension: 10 rows, 20 columns, 40 entries with magnitude in [1.000000e+00, 1.000000e+00]\n",
      "      total number of simplex iterations: 0\n",
      "      total num cut propagation: 0\n",
      "      num solves: \n",
      "        - #DUAL_FEASIBLE: 1\n",
      "      managed constraints: 10\n",
      "      total cuts added: 0 (out of 0 calls)\n",
      "\n",
      "  'core':\n",
      "    Search statistics:\n",
      "      booleans: 20\n",
      "      conflicts: 0\n",
      "      branches: 47\n",
      "      binary_propagations: 93\n",
      "      integer_propagations: 174\n",
      "      restarts: 41\n",
      "\n",
      "  'reduced_costs':\n",
      "    Search statistics:\n",
      "      booleans: 20\n",
      "      conflicts: 0\n",
      "      branches: 0\n",
      "      binary_propagations: 0\n",
      "      integer_propagations: 3\n",
      "      restarts: 0\n",
      "    LP statistics:\n",
      "      final dimension: 0 rows, 20 columns, 0 entries with magnitude in [0.000000e+00, 0.000000e+00]\n",
      "      total number of simplex iterations: 0\n",
      "      total num cut propagation: 0\n",
      "      num solves: \n",
      "        - #DUAL_FEASIBLE: 1\n",
      "      managed constraints: 10\n",
      "      total cuts added: 0 (out of 0 calls)\n",
      "\n",
      "  'pseudo_costs':\n",
      "    Search statistics:\n",
      "      booleans: 20\n",
      "      conflicts: 0\n",
      "      branches: 40\n",
      "      binary_propagations: 60\n",
      "      integer_propagations: 103\n",
      "      restarts: 40\n",
      "    LP statistics:\n",
      "      final dimension: 0 rows, 20 columns, 0 entries with magnitude in [0.000000e+00, 0.000000e+00]\n",
      "      total number of simplex iterations: 0\n",
      "      total num cut propagation: 0\n",
      "      num solves: \n",
      "        - #DUAL_FEASIBLE: 1\n",
      "      managed constraints: 10\n",
      "      total cuts added: 0 (out of 0 calls)\n",
      "\n",
      "  'quick_restart':\n",
      "    Search statistics:\n",
      "      booleans: 20\n",
      "      conflicts: 0\n",
      "      branches: 40\n",
      "      binary_propagations: 60\n",
      "      integer_propagations: 89\n",
      "      restarts: 40\n",
      "    LP statistics:\n",
      "      final dimension: 0 rows, 18 columns, 0 entries with magnitude in [0.000000e+00, 0.000000e+00]\n",
      "      total number of simplex iterations: 0\n",
      "      total num cut propagation: 0\n",
      "      num solves: \n",
      "        - #DUAL_FEASIBLE: 1\n",
      "      managed constraints: 10\n",
      "      total cuts added: 0 (out of 0 calls)\n",
      "\n",
      "  'quick_restart_no_lp':\n",
      "    Search statistics:\n",
      "      booleans: 20\n",
      "      conflicts: 0\n",
      "      branches: 0\n",
      "      binary_propagations: 0\n",
      "      integer_propagations: 3\n",
      "      restarts: 0\n",
      "\n",
      "\n",
      "Solutions found per subsolver:\n",
      "  'no_lp': 2\n",
      "\n",
      "Objective bounds found per subsolver:\n",
      "  'initial_domain': 1\n",
      "  'no_lp': 1\n",
      "\n",
      "Improving variable bounds shared per subsolver:\n",
      "  'no_lp': 20\n",
      "\n",
      "CpSolverResponse summary:\n",
      "status: OPTIMAL\n",
      "objective: 15\n",
      "best_bound: 15\n",
      "integers: 23\n",
      "booleans: 20\n",
      "conflicts: 0\n",
      "branches: 40\n",
      "propagations: 60\n",
      "integer_propagations: 89\n",
      "restarts: 40\n",
      "lp_iterations: 0\n",
      "walltime: 0.006949\n",
      "usertime: 0.006949\n",
      "deterministic_time: 3.7114e-05\n",
      "gap_integral: 4.98744e-05\n",
      "solution_fingerprint: 0x854cc377cf43f8e9\n",
      "\n"
     ]
    }
   ],
   "source": [
    "result = solver.solve(model, tee=True)"
   ]
  },
  {
   "cell_type": "code",
   "execution_count": 9,
   "id": "bcd9ab70-11bb-43d7-8be4-02688818e547",
   "metadata": {},
   "outputs": [
    {
     "data": {
      "text/plain": [
       "{'Problem': [{'Name': '', 'Lower bound': 15.0, 'Upper bound': 15.0, 'Number of objectives': 1, 'Number of constraints': 10, 'Number of variables': 20, 'Number of binary variables': 0, 'Number of integer variables': 20, 'Number of continuous variables': 0, 'Number of nonzeros': None, 'Sense': 1, 'Number of solutions': None}], 'Solver': [{'Status': 'ok', 'Wallclock time': 0.006949, 'Termination condition': 'optimal', 'Termination message': 'An optimal feasible solution was found.'}], 'Solution': [OrderedDict([('number of solutions', 0), ('number of solutions displayed', 0)])]}"
      ]
     },
     "execution_count": 9,
     "metadata": {},
     "output_type": "execute_result"
    }
   ],
   "source": [
    "result"
   ]
  },
  {
   "cell_type": "code",
   "execution_count": 10,
   "id": "ef6864cd-4a1b-42db-a30a-06ba82fceef6",
   "metadata": {},
   "outputs": [
    {
     "name": "stdout",
     "output_type": "stream",
     "text": [
      "x(0, 2) = 1\n",
      "x(2, 5) = 1\n",
      "x(5, 8) = 1\n",
      "x(8, 9) = 1\n"
     ]
    }
   ],
   "source": [
    "for edge, var in model.x.items():\n",
    "    if var.value != 0:\n",
    "        print(f'x{edge} = {var.value}')"
   ]
  },
  {
   "cell_type": "code",
   "execution_count": 11,
   "id": "c9f94e73-63db-4c4c-93f9-3c2775594ada",
   "metadata": {},
   "outputs": [
    {
     "name": "stdout",
     "output_type": "stream",
     "text": [
      "15\n"
     ]
    }
   ],
   "source": [
    "print(pyo.value(model.total_distance))"
   ]
  },
  {
   "cell_type": "code",
   "execution_count": null,
   "id": "659e159d-e0a9-4c6d-8aec-390292a34919",
   "metadata": {},
   "outputs": [],
   "source": []
  }
 ],
 "metadata": {
  "kernelspec": {
   "display_name": "Python 3 (ipykernel)",
   "language": "python",
   "name": "python3"
  },
  "language_info": {
   "codemirror_mode": {
    "name": "ipython",
    "version": 3
   },
   "file_extension": ".py",
   "mimetype": "text/x-python",
   "name": "python",
   "nbconvert_exporter": "python",
   "pygments_lexer": "ipython3",
   "version": "3.10.5"
  }
 },
 "nbformat": 4,
 "nbformat_minor": 5
}
